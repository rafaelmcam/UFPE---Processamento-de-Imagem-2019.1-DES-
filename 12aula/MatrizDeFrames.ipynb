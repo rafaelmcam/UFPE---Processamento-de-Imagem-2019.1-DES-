{
 "cells": [
  {
   "cell_type": "code",
   "execution_count": 4,
   "metadata": {},
   "outputs": [
    {
     "name": "stdout",
     "output_type": "stream",
     "text": [
      "True\n"
     ]
    }
   ],
   "source": [
    "import numpy as np\n",
    "import cv2\n",
    "\n",
    "cap = cv2.VideoCapture(0)\n",
    "\n",
    "print(cap.isOpened())\n",
    "\n",
    "frame = None\n",
    "while frame is None:\n",
    "    ret, frame = cap.read()\n",
    "\n",
    "#tem que ser um quadrado, xadrez é um QUADRADO!\n",
    "matrix = np.ones((1000, 1000, 3), dtype = np.uint8) * 255\n",
    "\n",
    "points_lst = []\n",
    "for y in range(8):\n",
    "    for x in range(8):\n",
    "        if (x + y) % 2 == 1:\n",
    "            matrix[(x)*matrix.shape[0]//8:(x+1)*matrix.shape[0]//8,y*matrix.shape[0]//8:(y+1)*matrix.shape[0]//8] = 0\n",
    "            points_lst.append([[x*matrix.shape[0]//8, y*matrix.shape[0]//8], [(x+1)*matrix.shape[0]//8, y*matrix.shape[0]//8], [(x+1)*matrix.shape[0]//8, (y+1)*matrix.shape[0]//8], [(x)*matrix.shape[0]//8, (y+1)*matrix.shape[0]//8]])\n",
    "            \n",
    "points_lst = np.float32(points_lst)\n",
    "\n",
    "#frame = cv2.imread(\"../Imgs/pinguim.jpg\")\n",
    "\n",
    "pts1 = np.float32(\n",
    "    [[0,0],\n",
    "    [frame.shape[1],0],\n",
    "    [frame.shape[1], frame.shape[0]],\n",
    "    [0, frame.shape[0]]]\n",
    ")\n",
    "\n",
    "M = np.array([cv2.getPerspectiveTransform(pts1, x) for x in points_lst])\n",
    "\n",
    "i = 0\n",
    "\n",
    "while(cap.isOpened()):\n",
    "    ret, frame = cap.read()\n",
    "    \n",
    "    if i == 32:\n",
    "        i = 0\n",
    "    \n",
    "    \n",
    "    if ret==True: \n",
    "        cv2.warpPerspective(frame, M[i], (matrix.shape[1], matrix.shape[0]), matrix, borderMode=cv2.BORDER_TRANSPARENT)\n",
    "        i += 1\n",
    "        cv2.imshow('Frame', matrix)\n",
    "\n",
    "        if cv2.waitKey(1) & 0xFF == ord('q'):\n",
    "            break\n",
    "    else:\n",
    "        break\n",
    "\n",
    "# Release everything if job is finished\n",
    "cap.release()\n",
    "cv2.destroyAllWindows()"
   ]
  },
  {
   "cell_type": "code",
   "execution_count": 149,
   "metadata": {},
   "outputs": [
    {
     "data": {
      "text/plain": [
       "(3, 3)"
      ]
     },
     "execution_count": 149,
     "metadata": {},
     "output_type": "execute_result"
    }
   ],
   "source": [
    "M[0].shape"
   ]
  },
  {
   "cell_type": "code",
   "execution_count": null,
   "metadata": {},
   "outputs": [],
   "source": [
    "M[0].shape"
   ]
  },
  {
   "cell_type": "code",
   "execution_count": 94,
   "metadata": {},
   "outputs": [],
   "source": [
    "\n",
    "pts1 = np.float32(\n",
    "    [[0,0],\n",
    "    [frame.shape[1],0],\n",
    "    [frame.shape[1], frame.shape[0]],\n",
    "    [0, frame.shape[0]]]\n",
    ")\n",
    "\n",
    "\n",
    "matrix = np.ones((640, 640, 3)) * 255"
   ]
  },
  {
   "cell_type": "code",
   "execution_count": 118,
   "metadata": {},
   "outputs": [],
   "source": [
    "matrix = np.ones((640, 640, 3)) * 255\n",
    "\n",
    "points_lst = []\n",
    "for y in range(8):\n",
    "    for x in range(8):\n",
    "        if (x + y) % 2 == 1:\n",
    "            matrix[(x)*80:(x+1)*80,y*80:(y+1)*80] = 0\n",
    "            points_lst.append([[x*80, y*80], [(x+1)*80, y*80], [(x+1)*80, (y+1)*80], [(x)*80, (y+1)*80]])\n",
    "            \n",
    "points_lst = np.float32(points_lst)"
   ]
  },
  {
   "cell_type": "code",
   "execution_count": 123,
   "metadata": {},
   "outputs": [],
   "source": [
    "pts1 = np.float32(\n",
    "    [[0,0],\n",
    "    [frame.shape[1],0],\n",
    "    [frame.shape[1], frame.shape[0]],\n",
    "    [0, frame.shape[0]]]\n",
    ")\n",
    "M = np.array([cv2.getPerspectiveTransform(pts1, x) for x in points_lst])"
   ]
  },
  {
   "cell_type": "code",
   "execution_count": 124,
   "metadata": {},
   "outputs": [
    {
     "data": {
      "text/plain": [
       "(32, 3, 3)"
      ]
     },
     "execution_count": 124,
     "metadata": {},
     "output_type": "execute_result"
    }
   ],
   "source": [
    "M.shape"
   ]
  },
  {
   "cell_type": "code",
   "execution_count": 117,
   "metadata": {},
   "outputs": [
    {
     "data": {
      "text/plain": [
       "array([[240.,   0.],\n",
       "       [320.,   0.],\n",
       "       [320.,  80.],\n",
       "       [240.,  80.]], dtype=float32)"
      ]
     },
     "execution_count": 117,
     "metadata": {},
     "output_type": "execute_result"
    }
   ],
   "source": [
    "points_lst[1]"
   ]
  },
  {
   "cell_type": "code",
   "execution_count": null,
   "metadata": {},
   "outputs": [],
   "source": []
  }
 ],
 "metadata": {
  "kernelspec": {
   "display_name": "Python 3",
   "language": "python",
   "name": "python3"
  },
  "language_info": {
   "codemirror_mode": {
    "name": "ipython",
    "version": 3
   },
   "file_extension": ".py",
   "mimetype": "text/x-python",
   "name": "python",
   "nbconvert_exporter": "python",
   "pygments_lexer": "ipython3",
   "version": "3.6.7"
  }
 },
 "nbformat": 4,
 "nbformat_minor": 2
}
