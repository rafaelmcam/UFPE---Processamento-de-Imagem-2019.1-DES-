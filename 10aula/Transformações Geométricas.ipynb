{
 "cells": [
  {
   "cell_type": "code",
   "execution_count": 1,
   "metadata": {},
   "outputs": [
    {
     "name": "stdout",
     "output_type": "stream",
     "text": [
      "DEGUB1\n"
     ]
    }
   ],
   "source": [
    "%matplotlib inline\n",
    "import cv2 # OpenCV\n",
    "import matplotlib.pyplot as plt # Matplotlib\n",
    "import numpy as np # Numpy\n",
    "\n",
    "points = []\n",
    "ix,iy = -1,-1\n",
    "\n",
    "# mouse callback function\n",
    "def get_points(event,x,y,flags,param):\n",
    "    global ix,iy,drawing,mode, points\n",
    "\n",
    "    if event == cv2.EVENT_LBUTTONDOWN:\n",
    "        ix,iy = x,y\n",
    "        #print(x, y)\n",
    "        points.append([x, y])\n",
    "\n",
    "\n",
    "img = cv2.imread(\"../Imgs/duas_tvs.jpg\", cv2.IMREAD_COLOR)\n",
    "img = cv2.resize(img, (0,0), fx=0.3, fy=0.5) \n",
    "ler = cv2.imread(\"../Imgs/pinguim.jpg\", cv2.IMREAD_COLOR)\n",
    "\n",
    "cv2.imshow(\"click\", img)\n",
    "cv2.setMouseCallback('click', get_points)\n",
    "\n",
    "\n",
    "        \n",
    "while (1):\n",
    "    k = cv2.waitKey(1) & 0xFF\n",
    "    if k == ord('q') or k == 27:\n",
    "        break\n",
    "        \n",
    "cv2.destroyAllWindows()\n",
    "\n",
    "\n",
    "print(\"DEGUB1\")\n",
    "\n",
    "pts_pinguim = np.float32([[0,0],[ler.shape[1], 0],[ler.shape[1],ler.shape[0]],[0,ler.shape[0]]])\n",
    "\n",
    "#print(points)\n",
    "points = np.array([[22, 175], [263, 174], [263, 458], [32, 464], [330, 170], [562, 179], [548, 457], [325, 453]])\n",
    "#print(points)\n",
    "\n",
    "pts1 = np.float32(points[:4])\n",
    "pts2 = np.float32(points[4:])\n",
    "\n",
    "cap = cv2.VideoCapture(\"f1.mp4\")\n",
    "\n",
    "ret, frame = cap.read()\n",
    "pts_frame = np.float32([[0,0],[frame.shape[1], 0],[frame.shape[1],frame.shape[0]],[0,frame.shape[0]]])\n",
    "n_frames = 1\n",
    "\n",
    "while(cap.isOpened()):\n",
    "    ret, frame = cap.read()\n",
    "    n_frames += 1\n",
    "\n",
    "    M = cv2.getPerspectiveTransform(pts_pinguim, pts1)\n",
    "    M2 = cv2.getPerspectiveTransform(pts_frame, pts2)\n",
    "\n",
    "    perspectiva = cv2.warpPerspective(ler, M,(img.shape[1], img.shape[0]), img, borderMode = cv2.BORDER_TRANSPARENT)\n",
    "    perspectiva_final = cv2.warpPerspective(frame, M2,(img.shape[1], img.shape[0]), perspectiva, borderMode = cv2.BORDER_TRANSPARENT)\n",
    "\n",
    "    cv2.imshow(\"pers\", perspectiva_final)\n",
    "\n",
    "    if cv2.waitKey(1) & 0xFF == ord('q'):\n",
    "        break\n",
    "\n",
    "cap.release()\n",
    "cv2.destroyAllWindows()"
   ]
  },
  {
   "cell_type": "code",
   "execution_count": null,
   "metadata": {},
   "outputs": [],
   "source": []
  }
 ],
 "metadata": {
  "kernelspec": {
   "display_name": "Python 3",
   "language": "python",
   "name": "python3"
  },
  "language_info": {
   "codemirror_mode": {
    "name": "ipython",
    "version": 3
   },
   "file_extension": ".py",
   "mimetype": "text/x-python",
   "name": "python",
   "nbconvert_exporter": "python",
   "pygments_lexer": "ipython3",
   "version": "3.6.7"
  }
 },
 "nbformat": 4,
 "nbformat_minor": 2
}
