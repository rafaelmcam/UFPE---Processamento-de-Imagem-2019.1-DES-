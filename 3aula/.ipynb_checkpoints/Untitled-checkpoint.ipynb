{
 "cells": [
  {
   "cell_type": "code",
   "execution_count": 5,
   "metadata": {},
   "outputs": [
    {
     "name": "stdout",
     "output_type": "stream",
     "text": [
      "A\n",
      "B\n"
     ]
    }
   ],
   "source": [
    "%matplotlib qt\n",
    "\n",
    "import numpy as np\n",
    "import matplotlib.pyplot as plt\n",
    "import cv2\n",
    "\n",
    "color = \"RGB\"\n",
    "\n",
    "cap = cv2.VideoCapture(0)\n",
    "\n",
    "bins = 255\n",
    "alpha = 1\n",
    "\n",
    "fig, ax = plt.subplots()\n",
    "\n",
    "#lineR, unpack para o primeiro, equivale a ax.plot[0]\n",
    "if color == \"RGB\":\n",
    "    lineR, = ax.plot(np.arange(bins), np.zeros(bins), c='r', lw =3, alpha=alpha, label = \"RED\")\n",
    "    lineG, = ax.plot(np.arange(bins), np.zeros(bins), c='b', lw =3, alpha=alpha, label = \"BLUE\")\n",
    "    lineB, = ax.plot(np.arange(bins), np.zeros(bins), c='g', lw =3, alpha=alpha, label = \"GREEN\")\n",
    "elif color == \"GS\":\n",
    "    lineGRAY, = ax.plot(np.arange(bins), np.zeros(bins), c='k', lw =3, alpha=alpha, label = \"Intensidade\")\n",
    "\n",
    "ax.set_xlim(0, bins-1)\n",
    "ax.set_ylim(0, 20000)\n",
    "ax.legend()\n",
    "plt.ion()\n",
    "plt.show()\n",
    "    \n",
    "while cap.isOpened():\n",
    "    ret, frame = cap.read()\n",
    "    if ret == True:\n",
    "        numPixels = np.prod(frame.shape[:2])\n",
    "        if color == \"RGB\":\n",
    "            cv2.imshow(\"RGB\", frame)\n",
    "            b, g, r = cv2.split(frame)\n",
    "            hR = cv2.calcHist([r], [0], None, [bins], [0, 255])\n",
    "            hG = cv2.calcHist([g], [0], None, [bins], [0, 255])\n",
    "            hB = cv2.calcHist([b], [0], None, [bins], [0, 255])\n",
    "            lineR.set_ydata(hR)\n",
    "            lineG.set_ydata(hG)\n",
    "            lineB.set_ydata(hB)\n",
    "        elif color == \"GS\":\n",
    "            frame_gs = cv2.cvtColor(frame, cv2.COLOR_BGR2GRAY)\n",
    "            cv2.imshow(\"GS\", frame_gs)\n",
    "            hI = cv2.calcHist([frame_gs], [0], None, [bins], [0, 255])\n",
    "            lineGRAY.set_ydata(hI)\n",
    "        fig.canvas.draw()\n",
    "        if cv2.waitKey(1) & 0xFF == ord(\"q\"):\n",
    "            break\n",
    "\n",
    "print(\"A\")\n",
    "cap.release()\n",
    "cv2.destroyAllWindows()\n",
    "print(\"B\")\n",
    "plt.close(fig)"
   ]
  },
  {
   "cell_type": "code",
   "execution_count": null,
   "metadata": {},
   "outputs": [],
   "source": []
  }
 ],
 "metadata": {
  "kernelspec": {
   "display_name": "Python 3",
   "language": "python",
   "name": "python3"
  },
  "language_info": {
   "codemirror_mode": {
    "name": "ipython",
    "version": 3
   },
   "file_extension": ".py",
   "mimetype": "text/x-python",
   "name": "python",
   "nbconvert_exporter": "python",
   "pygments_lexer": "ipython3",
   "version": "3.6.7"
  }
 },
 "nbformat": 4,
 "nbformat_minor": 2
}
