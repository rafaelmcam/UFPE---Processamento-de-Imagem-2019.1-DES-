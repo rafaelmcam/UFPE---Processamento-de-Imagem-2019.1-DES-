{
 "cells": [
  {
   "cell_type": "code",
   "execution_count": 1,
   "metadata": {},
   "outputs": [],
   "source": [
    "def add_hist(img):\n",
    "    h = cv2.calcHist([img],[0],None,[256],[0,256])\n",
    "    for i, bin_ in enumerate(h):\n",
    "        cv2.line(img,(i,img.shape[0]),(i,img.shape[0] - int(bin_* 10/img.shape[0])),(255,255,255))\n",
    "    #return\n",
    "    return h.reshape((-1)).T\n",
    "\n",
    "def processar(frame):\n",
    "    #frame = cv2.cvtColor(frame, cv2.COLOR_BGR2GRAY)\n",
    "    \n",
    "    d1 = cv2.pyrDown(frame)\n",
    "    d2 = cv2.pyrDown(d1)  \n",
    "    d3 = cv2.pyrDown(d2)\n",
    "    \n",
    "    u1 = cv2.pyrUp(d3)\n",
    "    u2 = cv2.pyrUp(u1)\n",
    "    u3 = cv2.pyrUp(u2)\n",
    "    \n",
    "    add_hist(frame)\n",
    "    add_hist(d1)\n",
    "    add_hist(d2)\n",
    "    add_hist(d3)\n",
    "    \n",
    "    add_hist(u1)\n",
    "    add_hist(u2)\n",
    "    add_hist(u3)\n",
    "    \n",
    "    cv2.imshow(\"Original\", frame)\n",
    "    cv2.imshow(\"D1\", d1)\n",
    "    cv2.imshow(\"D2\", d2)\n",
    "    cv2.imshow(\"D3\", d3)\n",
    "\n",
    "    cv2.imshow(\"U1\", u1)\n",
    "    cv2.imshow(\"U2\", u2)\n",
    "    cv2.imshow(\"U3\", u3)\n",
    "    \n",
    "    return "
   ]
  },
  {
   "cell_type": "code",
   "execution_count": 2,
   "metadata": {},
   "outputs": [
    {
     "name": "stdout",
     "output_type": "stream",
     "text": [
      "True\n"
     ]
    }
   ],
   "source": [
    "import numpy as np\n",
    "import cv2\n",
    "from importlib import reload\n",
    "from skimage.util import random_noise\n",
    "import matplotlib.pyplot as plt\n",
    "%matplotlib qt\n",
    "\n",
    "cap = cv2.VideoCapture(0)\n",
    "\n",
    "print(cap.isOpened())\n",
    "\n",
    "while(cap.isOpened()):\n",
    "    ret, frame = cap.read()\n",
    "    \n",
    "    if ret==True:\n",
    "        \n",
    "        try:\n",
    "            processar(frame)\n",
    "            #cv2.imshow('Frame', processar(frame))\n",
    "        except Exception as e:\n",
    "            cv2.putText(frame,'DEFAULT IMAGE', (0,50), cv2.FONT_HERSHEY_SIMPLEX, 1, (160,255,255), 2)\n",
    "            cv2.putText(frame, str(e), (0,100), cv2.FONT_HERSHEY_SIMPLEX, 0.5, (0,0,255), 2)\n",
    "            cv2.imshow('frame',frame)\n",
    "        \n",
    "\n",
    "        if cv2.waitKey(1) & 0xFF == ord('q'):\n",
    "            break\n",
    "    else:\n",
    "        break\n",
    "\n",
    "# Release everything if job is finished\n",
    "cap.release()\n",
    "cv2.destroyAllWindows()"
   ]
  },
  {
   "cell_type": "code",
   "execution_count": null,
   "metadata": {},
   "outputs": [],
   "source": []
  }
 ],
 "metadata": {
  "kernelspec": {
   "display_name": "Python 3",
   "language": "python",
   "name": "python3"
  },
  "language_info": {
   "codemirror_mode": {
    "name": "ipython",
    "version": 3
   },
   "file_extension": ".py",
   "mimetype": "text/x-python",
   "name": "python",
   "nbconvert_exporter": "python",
   "pygments_lexer": "ipython3",
   "version": "3.6.7"
  }
 },
 "nbformat": 4,
 "nbformat_minor": 2
}
