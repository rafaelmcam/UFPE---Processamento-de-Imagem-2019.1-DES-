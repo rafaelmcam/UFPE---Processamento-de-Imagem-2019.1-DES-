{
 "cells": [
  {
   "cell_type": "code",
   "execution_count": 2,
   "metadata": {},
   "outputs": [
    {
     "ename": "AttributeError",
     "evalue": "'NoneType' object has no attribute 'shape'",
     "output_type": "error",
     "traceback": [
      "\u001b[0;31m---------------------------------------------------------------------------\u001b[0m",
      "\u001b[0;31mAttributeError\u001b[0m                            Traceback (most recent call last)",
      "\u001b[0;32m<ipython-input-2-dbffd2d32175>\u001b[0m in \u001b[0;36m<module>\u001b[0;34m()\u001b[0m\n\u001b[1;32m     15\u001b[0m \u001b[0;34m\u001b[0m\u001b[0m\n\u001b[1;32m     16\u001b[0m \u001b[0minputimage1\u001b[0m \u001b[0;34m=\u001b[0m \u001b[0mcv2\u001b[0m\u001b[0;34m.\u001b[0m\u001b[0mimread\u001b[0m\u001b[0;34m(\u001b[0m\u001b[0;34m\"pp.jpg\"\u001b[0m\u001b[0;34m)\u001b[0m\u001b[0;34m\u001b[0m\u001b[0;34m\u001b[0m\u001b[0m\n\u001b[0;32m---> 17\u001b[0;31m \u001b[0mrows1\u001b[0m\u001b[0;34m,\u001b[0m \u001b[0mcols1\u001b[0m \u001b[0;34m=\u001b[0m \u001b[0minputimage1\u001b[0m\u001b[0;34m.\u001b[0m\u001b[0mshape\u001b[0m\u001b[0;34m[\u001b[0m\u001b[0;34m:\u001b[0m\u001b[0;36m2\u001b[0m\u001b[0;34m]\u001b[0m\u001b[0;34m\u001b[0m\u001b[0;34m\u001b[0m\u001b[0m\n\u001b[0m\u001b[1;32m     18\u001b[0m \u001b[0mpts1\u001b[0m \u001b[0;34m=\u001b[0m \u001b[0mnp\u001b[0m\u001b[0;34m.\u001b[0m\u001b[0mfloat32\u001b[0m\u001b[0;34m(\u001b[0m\u001b[0;34m[\u001b[0m\u001b[0;34m[\u001b[0m\u001b[0;36m0\u001b[0m\u001b[0;34m,\u001b[0m\u001b[0;36m0\u001b[0m\u001b[0;34m]\u001b[0m\u001b[0;34m,\u001b[0m\u001b[0;34m[\u001b[0m\u001b[0mcols1\u001b[0m\u001b[0;34m,\u001b[0m\u001b[0;36m0\u001b[0m\u001b[0;34m]\u001b[0m\u001b[0;34m,\u001b[0m\u001b[0;34m[\u001b[0m\u001b[0mcols1\u001b[0m\u001b[0;34m,\u001b[0m\u001b[0mrows1\u001b[0m\u001b[0;34m]\u001b[0m\u001b[0;34m,\u001b[0m\u001b[0;34m[\u001b[0m\u001b[0;36m0\u001b[0m\u001b[0;34m,\u001b[0m\u001b[0mrows1\u001b[0m\u001b[0;34m]\u001b[0m\u001b[0;34m]\u001b[0m\u001b[0;34m)\u001b[0m\u001b[0;34m\u001b[0m\u001b[0;34m\u001b[0m\u001b[0m\n\u001b[1;32m     19\u001b[0m \u001b[0;34m\u001b[0m\u001b[0m\n",
      "\u001b[0;31mAttributeError\u001b[0m: 'NoneType' object has no attribute 'shape'"
     ]
    }
   ],
   "source": [
    "import math\n",
    "import numpy as np\n",
    "import cv2\n",
    "\n",
    "width = 640\n",
    "height = 480\n",
    "\n",
    "referencePoints = np.float32([[width/4,height/4],[3*width/4,height/4],[3*width/4,3*height/4],[width/4,3*height/4]])\n",
    "\n",
    "# referencePoints2 = np.float32([[10, 10],[20, 20],[30, 30],[40, 40]])\n",
    "\n",
    "currentPoint = -1\n",
    "calibrating = True\n",
    "fullScreen = False\n",
    "\n",
    "inputimage1 = cv2.imread(\"pp.jpg\")\n",
    "rows1, cols1 = inputimage1.shape[:2]\n",
    "pts1 = np.float32([[0,0],[cols1,0],[cols1,rows1],[0,rows1]])\n",
    "\n",
    "image = np.zeros((height, width, 3), np.uint8)\n",
    "\n",
    "def pointColor(n):\n",
    "\tif n == 0:\n",
    "\t\treturn (0,0,255)\n",
    "\telif n == 1:\n",
    "\t\treturn (0,255,255)\n",
    "\telif n == 2:\n",
    "\t\treturn (255,255,0)\n",
    "\telse:\n",
    "\t\treturn (0,255,0)\n",
    "\n",
    "def mouse(event, x, y, flags, param):\n",
    "\tglobal currentPoint\n",
    "\n",
    "\tif event == cv2.EVENT_LBUTTONDOWN:\n",
    "\t\tcp = 0\n",
    "\t\tfor point in referencePoints:\n",
    "\t\t\tdist = math.sqrt((x-point[0])*(x-point[0])+(y-point[1])*(y-point[1]))\n",
    "\t\t\tif dist < 4:\n",
    "\t\t\t\tcurrentPoint = cp\n",
    "\t\t\t\tbreak\n",
    "\t\t\telse:\n",
    "\t\t\t\tcp = cp + 1\n",
    "\n",
    "# \t\tfor point in referencePoints2:\n",
    "# \t\t\tdist = math.sqrt((x-point[0])*(x-point[0])+(y-point[1])*(y-point[1]))\n",
    "# \t\t\tif dist < 4:\n",
    "# \t\t\t\tcurrentPoint = cp\n",
    "# \t\t\t\tbreak\n",
    "# \t\t\telse:\n",
    "# \t\t\t\tcp = cp + 1\n",
    "\n",
    "\tif event == cv2.EVENT_LBUTTONUP:\n",
    "\t\tcurrentPoint = -1\n",
    "\t\t\n",
    "\tif currentPoint != -1:\n",
    "\t\treferencePoints[currentPoint] = [x,y]\n",
    "\n",
    "cv2.namedWindow(\"test\", cv2.WINDOW_NORMAL)\n",
    "cv2.setMouseCallback(\"test\", mouse)\n",
    "\n",
    "while True:\n",
    "\t\n",
    "\timage[:] = (0,0,0)\n",
    "\tif calibrating:\n",
    "\t\tcolor = 0\n",
    "\t\tfor point in referencePoints:\n",
    "\t\t\tcv2.circle(image, (int(point[0]), int(point[1])),5,pointColor(color), -1)\n",
    "\t\t\tcolor = color + 1\n",
    "\t\tfor point in referencePoints2:\n",
    "\t\t\tcv2.circle(image, (int(point[0]), int(point[1])),5,pointColor(color), -1)\n",
    "\t\t\tcolor = color + 1\n",
    "\n",
    "\tM = cv2.getPerspectiveTransform(pts1,referencePoints)\n",
    "\tcv2.warpPerspective(inputimage1, M, (width,height), image, borderMode=cv2.BORDER_TRANSPARENT)\n",
    "\n",
    "\tcv2.imshow(\"test\", image)\n",
    "\tkey = cv2.waitKey(1) & 0xFF\n",
    "\n",
    "\tif key == ord(\"c\"):\n",
    "\t\tcalibrating = not calibrating\n",
    "\n",
    "\tif key == ord(\"f\"):\n",
    "\t\tif fullScreen == False:\n",
    "\t\t\tcv2.setWindowProperty(\"test\", cv2.WND_PROP_FULLSCREEN, cv2.WINDOW_FULLSCREEN)\n",
    "\t\telse:\n",
    "\t\t\tcv2.setWindowProperty(\"test\", cv2.WND_PROP_FULLSCREEN, cv2.WINDOW_NORMAL)\n",
    "\t\tfullScreen = not fullScreen\n",
    "\n",
    "\tif key == ord(\"q\"):\n",
    "\t\tbreak\n",
    "\n",
    "cv2.destroyAllWindows()"
   ]
  },
  {
   "cell_type": "code",
   "execution_count": 3,
   "metadata": {},
   "outputs": [],
   "source": [
    "inputimage1 = cv2.imread(\"pp.jpg\")"
   ]
  },
  {
   "cell_type": "code",
   "execution_count": 4,
   "metadata": {},
   "outputs": [
    {
     "ename": "AttributeError",
     "evalue": "'NoneType' object has no attribute 'shape'",
     "output_type": "error",
     "traceback": [
      "\u001b[0;31m---------------------------------------------------------------------------\u001b[0m",
      "\u001b[0;31mAttributeError\u001b[0m                            Traceback (most recent call last)",
      "\u001b[0;32m<ipython-input-4-cd3fc51c804c>\u001b[0m in \u001b[0;36m<module>\u001b[0;34m()\u001b[0m\n\u001b[0;32m----> 1\u001b[0;31m \u001b[0minputimage1\u001b[0m\u001b[0;34m.\u001b[0m\u001b[0mshape\u001b[0m\u001b[0;34m\u001b[0m\u001b[0;34m\u001b[0m\u001b[0m\n\u001b[0m",
      "\u001b[0;31mAttributeError\u001b[0m: 'NoneType' object has no attribute 'shape'"
     ]
    }
   ],
   "source": [
    "inputimage1.shape"
   ]
  },
  {
   "cell_type": "code",
   "execution_count": 5,
   "metadata": {},
   "outputs": [],
   "source": [
    "referencePoints = np.float32([[width/4,height/4],[3*width/4,height/4],[3*width/4,3*height/4],[width/4,3*height/4]])"
   ]
  },
  {
   "cell_type": "code",
   "execution_count": 9,
   "metadata": {},
   "outputs": [
    {
     "data": {
      "text/plain": [
       "array([[160., 120.],\n",
       "       [480., 120.],\n",
       "       [480., 360.],\n",
       "       [160., 360.]], dtype=float32)"
      ]
     },
     "execution_count": 9,
     "metadata": {},
     "output_type": "execute_result"
    }
   ],
   "source": [
    "referencePoints"
   ]
  },
  {
   "cell_type": "code",
   "execution_count": null,
   "metadata": {},
   "outputs": [],
   "source": []
  }
 ],
 "metadata": {
  "kernelspec": {
   "display_name": "Python 3",
   "language": "python",
   "name": "python3"
  },
  "language_info": {
   "codemirror_mode": {
    "name": "ipython",
    "version": 3
   },
   "file_extension": ".py",
   "mimetype": "text/x-python",
   "name": "python",
   "nbconvert_exporter": "python",
   "pygments_lexer": "ipython3",
   "version": "3.6.7"
  }
 },
 "nbformat": 4,
 "nbformat_minor": 2
}
