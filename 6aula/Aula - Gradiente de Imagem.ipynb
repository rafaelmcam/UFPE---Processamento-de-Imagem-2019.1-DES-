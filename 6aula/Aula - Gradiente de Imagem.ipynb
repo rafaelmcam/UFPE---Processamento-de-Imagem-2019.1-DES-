{
 "cells": [
  {
   "cell_type": "code",
   "execution_count": 7,
   "metadata": {},
   "outputs": [],
   "source": [
    "def adjust_gamma(image, gamma=1.0):\n",
    "\t# build a lookup table mapping the pixel values [0, 255] to\n",
    "\t# their adjusted gamma values\n",
    "\tinvGamma = 1.0 / gamma\n",
    "\ttable = np.array([((i / 255.0) ** invGamma) * 255\n",
    "\t\tfor i in np.arange(0, 256)]).astype(\"uint8\")\n",
    " \n",
    "\t# apply gamma correction using the lookup table\n",
    "\treturn cv2.LUT(image, table)\n",
    "\n",
    "def processar(frame):\n",
    "    gs = cv2.cvtColor(frame, cv2.COLOR_BGR2GRAY)\n",
    "    \n",
    "    #img_sobel = cv2.Sobel(gs,cv2.CV_64F, 1, 0,ksize = -1)\n",
    "    \n",
    "    #gs_b = cv2.GaussianBlur(gs, (7, 7), 0)\n",
    "    #laplacian = cv2.Laplacian(gs_b,cv2.CV_64F)\n",
    "    #adjusted = adjust_gamma(gs, gamma=1.5)\n",
    "    \n",
    "    kernel = np.array([[-1,-1,-1],[-1, 9,-1],[-1,-1,-1]])\n",
    "    gs_sharpen = cv2.filter2D(gs, -1, kernel)\n",
    "    eq = cv2.equalizeHist(gs_sharpen)\n",
    "    \n",
    "\n",
    "    #gs_median = cv2.medianBlur(np.uint8(gs_sharpen), 5)\n",
    "    #gs_b = cv2.GaussianBlur(gs_sharpen, (5, 5), 0)\n",
    "                            \n",
    "    canny = cv2.Canny(gs_sharpen, 150, 300)\n",
    "    \n",
    "    if cv2.waitKey(1) & 0xFF == ord('q'):\n",
    "        cv2.imwrite(\"4_1.jpg\", frame)\n",
    "        cv2.imwrite(\"4_2.jpg\", canny)\n",
    "    \n",
    "    cv2.imshow(\"Frame\", canny)\n",
    "    return"
   ]
  },
  {
   "cell_type": "code",
   "execution_count": 8,
   "metadata": {},
   "outputs": [
    {
     "name": "stdout",
     "output_type": "stream",
     "text": [
      "True\n"
     ]
    }
   ],
   "source": [
    "import numpy as np\n",
    "import cv2\n",
    "from importlib import reload\n",
    "from skimage.util import random_noise\n",
    "\n",
    "cap = cv2.VideoCapture(0)\n",
    "\n",
    "print(cap.isOpened())\n",
    "\n",
    "while(cap.isOpened()):\n",
    "    ret, frame = cap.read()\n",
    "    \n",
    "    if ret==True:\n",
    "        \n",
    "        try:\n",
    "            processar(frame)\n",
    "            #cv2.imshow('Frame', processar(frame))\n",
    "        except Exception as e:\n",
    "            cv2.putText(frame,'DEFAULT IMAGE', (0,50), cv2.FONT_HERSHEY_SIMPLEX, 1, (160,255,255), 2)\n",
    "            cv2.putText(frame, str(e), (0,100), cv2.FONT_HERSHEY_SIMPLEX, 0.5, (0,0,255), 2)\n",
    "            cv2.imshow('frame',frame)\n",
    "        \n",
    "\n",
    "        if cv2.waitKey(1) & 0xFF == ord('q'):\n",
    "            break\n",
    "    else:\n",
    "        break\n",
    "\n",
    "# Release everything if job is finished\n",
    "cap.release()\n",
    "cv2.destroyAllWindows()"
   ]
  },
  {
   "cell_type": "code",
   "execution_count": null,
   "metadata": {},
   "outputs": [],
   "source": []
  },
  {
   "cell_type": "code",
   "execution_count": null,
   "metadata": {},
   "outputs": [],
   "source": []
  },
  {
   "cell_type": "code",
   "execution_count": null,
   "metadata": {},
   "outputs": [],
   "source": []
  }
 ],
 "metadata": {
  "kernelspec": {
   "display_name": "Python 3",
   "language": "python",
   "name": "python3"
  },
  "language_info": {
   "codemirror_mode": {
    "name": "ipython",
    "version": 3
   },
   "file_extension": ".py",
   "mimetype": "text/x-python",
   "name": "python",
   "nbconvert_exporter": "python",
   "pygments_lexer": "ipython3",
   "version": "3.6.7"
  }
 },
 "nbformat": 4,
 "nbformat_minor": 2
}
