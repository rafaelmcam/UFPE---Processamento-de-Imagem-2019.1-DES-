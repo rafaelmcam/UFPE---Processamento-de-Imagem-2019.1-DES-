{
 "cells": [
  {
   "cell_type": "code",
   "execution_count": 1,
   "metadata": {},
   "outputs": [],
   "source": [
    "%matplotlib inline\n",
    "import matplotlib.pyplot as plt\n",
    "import numpy as np\n",
    "import cv2\n",
    "import math"
   ]
  },
  {
   "cell_type": "code",
   "execution_count": 7,
   "metadata": {},
   "outputs": [],
   "source": [
    "cap = cv2.VideoCapture(0)\n",
    "\n",
    "\n",
    "Probabilistic = False\n",
    "except_count = 0\n",
    "\n",
    "while(cap.isOpened()):\n",
    "    ret, frame = cap.read()\n",
    "    \n",
    "    if ret == True:\n",
    "        gs = cv2.cvtColor(frame, cv2.COLOR_BGR2GRAY)\n",
    "        bordas = cv2.Canny(gs, 50, 200)\n",
    "        \n",
    "        bordas_copia = cv2.cvtColor(bordas, cv2.COLOR_GRAY2BGR)\n",
    "        \n",
    "        try:\n",
    "            if Probabilistic == False:\n",
    "                    linhas = cv2.HoughLines(bordas, 1, np.pi / 180, 100, None, 0, 0)\n",
    "                    for i in range(0, len(linhas)):\n",
    "                        rho = linhas[i][0][0]\n",
    "                        theta = linhas[i][0][1]\n",
    "                        a = math.cos(theta)\n",
    "                        b = math.sin(theta)\n",
    "                        x0 = a * rho\n",
    "                        y0 = b * rho\n",
    "                        pt1 = (int(x0 + 1000*(-b)), int(y0 + 1000*(a)))\n",
    "                        pt2 = (int(x0 - 1000*(-b)), int(y0 - 1000*(a)))\n",
    "                        cv2.line(bordas_copia, pt1, pt2, (0,0,255), 3, cv2.LINE_AA)\n",
    "            else:\n",
    "                linhas_P = cv2.HoughLinesP(bordas, 1, np.pi / 180, 150, None, 50, 10)\n",
    "                for linha in linhas_P:\n",
    "                    x1, y1, x2, y2 = linha[0]\n",
    "                    cv2.line(bordas_copia, (x1, y1), (x2, y2), (0, 0, 255), 3)\n",
    "        except:\n",
    "            except_count += 1\n",
    "            print(\"Except Count: {}\".format(except_count))\n",
    "            \n",
    "    \n",
    "        cv2.imshow(\"out\", bordas_copia)\n",
    "    \n",
    "        if cv2.waitKey(1) & 0xFF == ord('q'):\n",
    "                break\n",
    "            \n",
    "cap.release()\n",
    "cv2.destroyAllWindows()"
   ]
  },
  {
   "cell_type": "code",
   "execution_count": null,
   "metadata": {},
   "outputs": [],
   "source": []
  }
 ],
 "metadata": {
  "kernelspec": {
   "display_name": "Python 3",
   "language": "python",
   "name": "python3"
  },
  "language_info": {
   "codemirror_mode": {
    "name": "ipython",
    "version": 3
   },
   "file_extension": ".py",
   "mimetype": "text/x-python",
   "name": "python",
   "nbconvert_exporter": "python",
   "pygments_lexer": "ipython3",
   "version": "3.6.7"
  }
 },
 "nbformat": 4,
 "nbformat_minor": 2
}
