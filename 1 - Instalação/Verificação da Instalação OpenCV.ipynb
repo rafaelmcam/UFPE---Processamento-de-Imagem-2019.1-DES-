{
 "cells": [
  {
   "cell_type": "code",
   "execution_count": 1,
   "metadata": {},
   "outputs": [],
   "source": [
    "#file:///usr/share/doc/opencv-doc/html/index.html\n",
    "\n",
    "import numpy as np\n",
    "import cv2\n",
    "import matplotlib.pyplot as plt"
   ]
  },
  {
   "cell_type": "code",
   "execution_count": 2,
   "metadata": {},
   "outputs": [],
   "source": [
    "img = cv2.imread(\"../Imgs/pinguim.jpg\", cv2.IMREAD_COLOR)\n",
    "cv2.imshow(\"image\", img)\n",
    "cv2.waitKey(0)\n",
    "cv2.destroyAllWindows()"
   ]
  },
  {
   "cell_type": "code",
   "execution_count": 3,
   "metadata": {},
   "outputs": [
    {
     "name": "stdout",
     "output_type": "stream",
     "text": [
      "(400, 600, 3)\n"
     ]
    },
    {
     "data": {
      "text/plain": [
       "array([[[ 99,  83,  70],\n",
       "        [ 99,  83,  70],\n",
       "        [ 99,  83,  70],\n",
       "        ...,\n",
       "        [167, 151, 138],\n",
       "        [167, 151, 138],\n",
       "        [167, 151, 138]],\n",
       "\n",
       "       [[ 99,  83,  70],\n",
       "        [ 99,  83,  70],\n",
       "        [100,  84,  71],\n",
       "        ...,\n",
       "        [167, 151, 138],\n",
       "        [167, 151, 138],\n",
       "        [167, 151, 138]],\n",
       "\n",
       "       [[100,  84,  71],\n",
       "        [100,  84,  71],\n",
       "        [100,  84,  71],\n",
       "        ...,\n",
       "        [166, 151, 135],\n",
       "        [166, 151, 135],\n",
       "        [166, 151, 135]],\n",
       "\n",
       "       ...,\n",
       "\n",
       "       [[187, 184, 180],\n",
       "        [194, 191, 187],\n",
       "        [199, 196, 192],\n",
       "        ...,\n",
       "        [184, 184, 184],\n",
       "        [184, 184, 184],\n",
       "        [184, 184, 184]],\n",
       "\n",
       "       [[188, 185, 181],\n",
       "        [192, 189, 185],\n",
       "        [197, 194, 190],\n",
       "        ...,\n",
       "        [183, 183, 183],\n",
       "        [183, 183, 183],\n",
       "        [183, 183, 183]],\n",
       "\n",
       "       [[192, 189, 185],\n",
       "        [191, 188, 184],\n",
       "        [194, 191, 187],\n",
       "        ...,\n",
       "        [182, 182, 182],\n",
       "        [182, 182, 182],\n",
       "        [182, 182, 182]]], dtype=uint8)"
      ]
     },
     "execution_count": 3,
     "metadata": {},
     "output_type": "execute_result"
    }
   ],
   "source": [
    "print(img.shape)\n",
    "img"
   ]
  },
  {
   "cell_type": "code",
   "execution_count": null,
   "metadata": {},
   "outputs": [],
   "source": []
  }
 ],
 "metadata": {
  "kernelspec": {
   "display_name": "Python 3",
   "language": "python",
   "name": "python3"
  },
  "language_info": {
   "codemirror_mode": {
    "name": "ipython",
    "version": 3
   },
   "file_extension": ".py",
   "mimetype": "text/x-python",
   "name": "python",
   "nbconvert_exporter": "python",
   "pygments_lexer": "ipython3",
   "version": "3.6.7"
  }
 },
 "nbformat": 4,
 "nbformat_minor": 2
}
