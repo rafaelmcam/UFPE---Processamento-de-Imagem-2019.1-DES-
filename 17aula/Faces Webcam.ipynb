{
 "cells": [
  {
   "cell_type": "code",
   "execution_count": 3,
   "metadata": {},
   "outputs": [],
   "source": [
    "import cv2\n",
    "\n",
    "cap = cv2.VideoCapture(0)\n",
    "\n",
    "face_cascade = cv2.CascadeClassifier('class/haarcascade_frontalface_default.xml')\n",
    "eye_cascade = cv2.CascadeClassifier('class/haarcascade_eye_tree_eyeglasses.xml')\n",
    "\n",
    "\n",
    "\n",
    "\n",
    "while cap.isOpened():\n",
    "    ret, frame = cap.read()\n",
    "    if ret == True:\n",
    "        gs = cv2.cvtColor(frame, cv2.COLOR_BGR2GRAY)\n",
    "        \n",
    "        faces = face_cascade.detectMultiScale(gs, scaleFactor=1.3, minNeighbors=2)\n",
    "        eyes = eye_cascade.detectMultiScale(gs, scaleFactor = 1.3,  minNeighbors = 5)\n",
    "        #print(len(faces))\n",
    "        \n",
    "        #img_c = img.copy()\n",
    "        for (x,y,w,h) in faces:\n",
    "            cv2.rectangle(frame,(x,y),(x+w,y+h),(255,0,0),8)\n",
    "        for (x, y, w, h) in eyes:\n",
    "            cv2.rectangle(frame,(x,y),(x+w,y+h),(0,255,0),4)\n",
    "            \n",
    "        cv2.imshow(\"frame\", frame)\n",
    "        \n",
    "#         if cv2.waitKey(1):\n",
    "#             if 0xFF == ord(\"t\"):\n",
    "#                 cv2.imshow(\"foto\", frame)\n",
    "        \n",
    "        key = cv2.waitKey(1) & 0xFF\n",
    "        \n",
    "        if key == ord(\"t\"):\n",
    "            cv2.imshow(\"foto\", frame)\n",
    "        if key == ord(\"q\"):\n",
    "            break\n",
    "\n",
    "cap.release()\n",
    "cv2.destroyAllWindows()"
   ]
  },
  {
   "cell_type": "code",
   "execution_count": null,
   "metadata": {},
   "outputs": [],
   "source": []
  }
 ],
 "metadata": {
  "kernelspec": {
   "display_name": "Python 3",
   "language": "python",
   "name": "python3"
  },
  "language_info": {
   "codemirror_mode": {
    "name": "ipython",
    "version": 3
   },
   "file_extension": ".py",
   "mimetype": "text/x-python",
   "name": "python",
   "nbconvert_exporter": "python",
   "pygments_lexer": "ipython3",
   "version": "3.6.7"
  }
 },
 "nbformat": 4,
 "nbformat_minor": 2
}
