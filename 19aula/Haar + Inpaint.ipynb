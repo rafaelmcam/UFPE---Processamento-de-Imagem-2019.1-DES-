{
 "cells": [
  {
   "cell_type": "code",
   "execution_count": 1,
   "metadata": {},
   "outputs": [],
   "source": [
    "%matplotlib inline\n",
    "import cv2\n",
    "import numpy as np\n",
    "import matplotlib.pyplot as plt"
   ]
  },
  {
   "cell_type": "code",
   "execution_count": 2,
   "metadata": {},
   "outputs": [],
   "source": [
    "face_cascade = cv2.CascadeClassifier('../Aulas/17aula/class/haarcascade_frontalface_default.xml')\n",
    "#eye_cascade = cv2.CascadeClassifier('class/haarcascade_eye_tree_eyeglasses.xml')\n"
   ]
  },
  {
   "cell_type": "code",
   "execution_count": 3,
   "metadata": {},
   "outputs": [],
   "source": [
    "bol = False"
   ]
  },
  {
   "cell_type": "code",
   "execution_count": 4,
   "metadata": {},
   "outputs": [],
   "source": [
    "par = 30"
   ]
  },
  {
   "cell_type": "code",
   "execution_count": 12,
   "metadata": {},
   "outputs": [],
   "source": [
    "cap = cv2.VideoCapture(0)\n",
    "\n",
    "while cap.isOpened():\n",
    "    ret, frame = cap.read()\n",
    "    if ret == True:\n",
    "        gs = cv2.cvtColor(frame, cv2.COLOR_BGR2GRAY)\n",
    "        \n",
    "        \n",
    "        faces = face_cascade.detectMultiScale(gs, scaleFactor=1.3, minNeighbors=2)\n",
    "        #cv2.imshow(\"frame\", frame)       \n",
    "        \n",
    "        mask = np.zeros(shape = frame.shape[:2]+(1,), dtype = np.uint8)\n",
    "        \n",
    "        if len(faces) != 0:\n",
    "            bol = True\n",
    "        \n",
    "        if bol == True:\n",
    "            try:\n",
    "                x,y,w,h = faces[0]\n",
    "            except:\n",
    "                pass\n",
    "            cv2.rectangle(mask,(x - par, y - 3 * par),(x + w + par, y + h + 3 * par),(255), -1)\n",
    "            \n",
    "        else:\n",
    "            pass\n",
    "        \n",
    "        inpainted = cv2.inpaint(frame, mask, 3, cv2.INPAINT_TELEA)\n",
    "        if bol:\n",
    "            cv2.rectangle(frame,(x - par, y - 3 * par),(x + w + par, y + h + 3 * par),(0, 100, 255), 3)\n",
    "        cv2.imshow(\"inpainted\", inpainted)\n",
    "        cv2.imshow(\"frame\", frame)  \n",
    "\n",
    "        key = cv2.waitKey(1) & 0xFF\n",
    "        \n",
    "        if key == ord(\"t\"):\n",
    "            cv2.imshow(\"frame_orig\", frame)\n",
    "        if key == ord(\"q\"):\n",
    "            break\n",
    "\n",
    "cap.release()\n",
    "cv2.destroyAllWindows()"
   ]
  },
  {
   "cell_type": "code",
   "execution_count": null,
   "metadata": {},
   "outputs": [],
   "source": []
  }
 ],
 "metadata": {
  "kernelspec": {
   "display_name": "Python 3",
   "language": "python",
   "name": "python3"
  },
  "language_info": {
   "codemirror_mode": {
    "name": "ipython",
    "version": 3
   },
   "file_extension": ".py",
   "mimetype": "text/x-python",
   "name": "python",
   "nbconvert_exporter": "python",
   "pygments_lexer": "ipython3",
   "version": "3.6.7"
  }
 },
 "nbformat": 4,
 "nbformat_minor": 2
}
