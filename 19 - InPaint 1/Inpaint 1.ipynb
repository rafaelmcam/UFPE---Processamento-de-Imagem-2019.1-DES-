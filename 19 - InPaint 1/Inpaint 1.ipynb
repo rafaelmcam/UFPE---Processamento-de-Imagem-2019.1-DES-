{
 "cells": [
  {
   "cell_type": "code",
   "execution_count": 1,
   "metadata": {},
   "outputs": [],
   "source": [
    "%matplotlib inline\n",
    "import cv2\n",
    "import numpy as np\n",
    "import matplotlib.pyplot as plt"
   ]
  },
  {
   "cell_type": "code",
   "execution_count": 5,
   "metadata": {},
   "outputs": [],
   "source": [
    "cap = cv2.VideoCapture(0)\n",
    "\n",
    "while cap.isOpened():\n",
    "    ret, frame = cap.read()\n",
    "    if ret == True:\n",
    "        gs = cv2.cvtColor(frame, cv2.COLOR_BGR2GRAY)\n",
    "        \n",
    "        #cv2.imshow(\"frame\", frame)            \n",
    "        \n",
    "        img = frame\n",
    "        img = cv2.cvtColor(img, cv2.COLOR_BGR2RGB)\n",
    "\n",
    "        hsv = cv2.cvtColor(img, cv2.COLOR_RGB2HSV)\n",
    "\n",
    "        cor1 = (0, 30, 10)\n",
    "        cor2 = (35, 200, 200)\n",
    "\n",
    "        mask = cv2.inRange(hsv, cor1, cor2)\n",
    "        result = cv2.bitwise_and(img, img, mask=mask)\n",
    "\n",
    "        #mask = cv2.morphologyEx(mask, cv2.MORPH_CLOSE, cv2.getStructuringElement(cv2.MORPH_RECT,(9,9)))\n",
    "        #mask = cv2.morphologyEx(mask, cv2.MORPH_OPEN, cv2.getStructuringElement(cv2.MORPH_RECT,(9,9)))\n",
    "\n",
    "        mask = cv2.dilate(mask, cv2.getStructuringElement(cv2.MORPH_RECT,(9, 9)), 3)\n",
    "\n",
    "        #plt.imshow(mask)\n",
    "\n",
    "        inpainted = cv2.inpaint(img, mask, 3, cv2.INPAINT_TELEA)\n",
    "        cv2.imshow(\"frame\", frame)\n",
    "        cv2.imshow(\"inpaint\", inpainted)\n",
    "\n",
    "#         if cv2.waitKey(1):\n",
    "#             if 0xFF == ord(\"t\"):\n",
    "#                 cv2.imshow(\"foto\", frame)\n",
    "        \n",
    "        key = cv2.waitKey(1) & 0xFF\n",
    "        \n",
    "        if key == ord(\"t\"):\n",
    "            cv2.imshow(\"frame_orig\", frame)\n",
    "            cv2.imshow(\"foto\", inpainted)\n",
    "        if key == ord(\"q\"):\n",
    "            break\n",
    "\n",
    "cap.release()\n",
    "cv2.destroyAllWindows()"
   ]
  },
  {
   "cell_type": "code",
   "execution_count": null,
   "metadata": {},
   "outputs": [],
   "source": []
  },
  {
   "cell_type": "code",
   "execution_count": 8,
   "metadata": {},
   "outputs": [
    {
     "data": {
      "image/png": "[encoded data removed]",
      "text/plain": [
       "<Figure size 432x288 with 1 Axes>"
      ]
     },
     "metadata": {},
     "output_type": "display_data"
    }
   ],
   "source": [
    "img = cv2.imread(\"hand.png\", 1)\n",
    "\n",
    "img = cv2.cvtColor(img, cv2.COLOR_BGR2RGB)\n",
    "\n",
    "hsv = cv2.cvtColor(img, cv2.COLOR_RGB2HSV)\n",
    "\n",
    "cor1 = (0, 30, 10)\n",
    "cor2 = (35, 200, 200)\n",
    "\n",
    "\n",
    "mask = cv2.inRange(hsv, cor1, cor2)\n",
    "result = cv2.bitwise_and(img, img, mask=mask)\n",
    "\n",
    "plt.imshow(mask)\n",
    "\n",
    "#mask = cv2.morphologyEx(mask, cv2.MORPH_CLOSE, cv2.getStructuringElement(cv2.MORPH_RECT,(9,9)))\n",
    "\n",
    "#mask = cv2.morphologyEx(mask, cv2.MORPH_OPEN, cv2.getStructuringElement(cv2.MORPH_RECT,(9,9)))\n",
    "\n",
    "mask = cv2.dilate(mask, cv2.getStructuringElement(cv2.MORPH_RECT,(9, 9)), 3)\n",
    "\n",
    "plt.imshow(mask)\n",
    "\n",
    "\n",
    "\n",
    "inpainted = cv2.inpaint(img, mask, 3, cv2.INPAINT_TELEA)\n",
    "\n",
    "#plt.imshow(inpainted)\n",
    "\n"
   ]
  },
  {
   "cell_type": "code",
   "execution_count": null,
   "metadata": {},
   "outputs": [],
   "source": []
  }
 ],
 "metadata": {
  "kernelspec": {
   "display_name": "Python 3",
   "language": "python",
   "name": "python3"
  },
  "language_info": {
   "codemirror_mode": {
    "name": "ipython",
    "version": 3
   },
   "file_extension": ".py",
   "mimetype": "text/x-python",
   "name": "python",
   "nbconvert_exporter": "python",
   "pygments_lexer": "ipython3",
   "version": "3.6.7"
  }
 },
 "nbformat": 4,
 "nbformat_minor": 2
}
